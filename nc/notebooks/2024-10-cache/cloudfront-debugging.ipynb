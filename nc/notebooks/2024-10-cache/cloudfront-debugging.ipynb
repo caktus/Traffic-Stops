{
 "cells": [
  {
   "cell_type": "markdown",
   "id": "1c7e89ae-fc35-441a-8a33-a2194fc535d7",
   "metadata": {},
   "source": [
    "## Invalidate cache"
   ]
  },
  {
   "cell_type": "code",
   "execution_count": 246,
   "id": "effa0419-c5e2-471b-91e3-0211342034c1",
   "metadata": {},
   "outputs": [
    {
     "name": "stdout",
     "output_type": "stream",
     "text": [
      "{\n",
      "    \"Location\": \"https://cloudfront.amazonaws.com/2020-05-31/distribution/E2OFFI0H5HY2N8/invalidation/I3450RH5B2N751UJGK2M1EYRJR\",\n",
      "    \"Invalidation\": {\n",
      "        \"Id\": \"I3450RH5B2N751UJGK2M1EYRJR\",\n",
      "        \"Status\": \"InProgress\",\n",
      "        \"CreateTime\": \"2024-10-29T14:45:36.877Z\",\n",
      "        \"InvalidationBatch\": {\n",
      "            \"Paths\": {\n",
      "                \"Quantity\": 1,\n",
      "                \"Items\": [\n",
      "                    \"/*\"\n",
      "                ]\n",
      "            },\n",
      "            \"CallerReference\": \"cli-1730213136-577351\"\n",
      "        }\n",
      "    }\n",
      "}\n"
     ]
    }
   ],
   "source": [
    "! aws cloudfront create-invalidation --distribution-id E2OFFI0H5HY2N8 --paths \"/*\""
   ]
  },
  {
   "cell_type": "markdown",
   "id": "b96a79a9-b07d-459c-8145-878db045221e",
   "metadata": {},
   "source": [
    "## Prime cache"
   ]
  },
  {
   "cell_type": "code",
   "execution_count": 447,
   "id": "df113a0e-ad17-4582-8d87-e58058f33e08",
   "metadata": {},
   "outputs": [],
   "source": [
    "! kubectl -n trafficstops-staging exec -it deploy/app -- python manage.py prime_cache --clear-cache --agency-cutoff-count=30000000"
   ]
  },
  {
   "cell_type": "code",
   "execution_count": 448,
   "id": "588e4485-93e5-475f-99b7-3a32ff283b4f",
   "metadata": {},
   "outputs": [
    {
     "name": "stdout",
     "output_type": "stream",
     "text": [
      "[2024-10-29 03:00:00,116: INFO/ForkPoolWorker-2] nc.tasks.download_and_import_nc_dataset[762a4b77-c7b9-49e7-ad86-cfa4574c943a]: Triggering automatic NC import\n",
      "[2024-10-29 04:38:20,846: INFO/ForkPoolWorker-2] tsdata.tasks.import_dataset[5509fcb7-c006-445d-8ca6-1254647d4c70]: Import complete\n",
      "2024-10-29 03:00:00,370 celery.app.trace     INFO     Task nc.tasks.download_and_import_nc_dataset[762a4b77-c7b9-49e7-ad86-cfa4574c943a] succeeded in 0.2555248634889722s: None\n",
      "2024-10-29 13:23:06,222 celery.worker.strategy INFO     Task nc.tasks.prime_all_endpoints[08c0be8f-8af9-4767-8e3e-a7c3ef383a18] received\n",
      "2024-10-29 13:23:06,233 nc.prime_cache       INFO     Invalidating CloudFront distribution (settings.CACHE_CLOUDFRONT_DISTRIBUTION_ID='E2OFFI0H5HY2N8')\n",
      "2024-10-29 13:23:06,320 botocore.credentials INFO     Found credentials from IAM Role: trafficstops-stack-ContainerInstanceRole-1XMBM3VLAYOVE\n",
      "[2024-10-29 13:23:07,489: INFO/ForkPoolWorker-2] nc.tasks.prime_groups_cache[None]: Querying agency endpoint groups (by_officer=False, cutoff_count=30000000)\n",
      "[2024-10-29 13:23:14,713: INFO/ForkPoolWorker-2] nc.tasks.prime_groups_cache[None]: Queuing 341 agency endpoint groups\n",
      "[2024-10-29 13:23:14,717: INFO/ForkPoolWorker-2] nc.tasks.prime_groups_cache[None]: Stopping due to cutoff (endpoint_group.num_stops=13420770, cutoff_count=30000000)\n",
      "[2024-10-29 13:23:14,718: INFO/ForkPoolWorker-2] nc.tasks.prime_all_endpoints[08c0be8f-8af9-4767-8e3e-a7c3ef383a18]: Complete\n",
      "2024-10-29 13:23:14,720 celery.app.trace     INFO     Task nc.tasks.prime_all_endpoints[08c0be8f-8af9-4767-8e3e-a7c3ef383a18] succeeded in 8.489157313480973s: None\n",
      "2024-10-29 04:38:21,060 celery.worker.strategy INFO     Task tsdata.tasks.compliance_report[7d57f328-6125-4d9e-8289-96294b14f86b] received\n",
      "[2024-10-29 04:38:21,063: INFO/ForkPoolWorker-1] tsdata.tasks.compliance_report[7d57f328-6125-4d9e-8289-96294b14f86b]: Generating compliance report\n",
      "2024-10-29 04:38:21,100 celery.app.trace     INFO     Task tsdata.tasks.import_dataset[5509fcb7-c006-445d-8ca6-1254647d4c70] succeeded in 5900.723594412208s: None\n",
      "[2024-10-29 04:38:21,547: INFO/ForkPoolWorker-1] tsdata.tasks.compliance_report[7d57f328-6125-4d9e-8289-96294b14f86b]: Updating agency last stop\n",
      "2024-10-29 04:46:30,853 celery.app.trace     INFO     Task tsdata.tasks.compliance_report[7d57f328-6125-4d9e-8289-96294b14f86b] succeeded in 489.7907146802172s: None\n",
      "2024-10-29 13:23:14,720 celery.worker.strategy INFO     Task nc.tasks.prime_group_cache[1aadffd4-ce36-436d-ab4d-6a3e7d397a03] received\n",
      "2024-10-29 13:23:14,724 nc.prime_cache       INFO     Priming cache (agency_id=-1, officer_id=None, num_stops=30815284)...\n",
      "2024-10-29 13:23:14,795 nc.prime_cache       DEBUG    Querying https://staging.nccopwatch.org/api/agency/-1/stops/\n",
      "2024-10-29 13:23:21,852 nc.prime_cache       DEBUG    Querying https://staging.nccopwatch.org/api/agency/-1/stops_by_reason/\n",
      "2024-10-29 13:23:30,895 nc.prime_cache       DEBUG    Querying https://staging.nccopwatch.org/api/agency/-1/searches/\n",
      "2024-10-29 13:23:32,876 nc.prime_cache       DEBUG    Querying https://staging.nccopwatch.org/api/agency/-1/searches_by_type/\n",
      "2024-10-29 13:23:34,860 nc.prime_cache       DEBUG    Querying https://staging.nccopwatch.org/api/agency/-1/use_of_force/\n",
      "2024-10-29 13:23:37,189 nc.prime_cache       DEBUG    Querying https://staging.nccopwatch.org/api/agency/-1/stops-by-percentage/\n",
      "2024-10-29 13:23:48,808 nc.prime_cache       DEBUG    Querying https://staging.nccopwatch.org/api/agency/-1/stops-by-count/\n",
      "2024-10-29 13:23:55,041 nc.prime_cache       DEBUG    Querying https://staging.nccopwatch.org/api/agency/-1/stop-purpose-groups/\n",
      "2024-10-29 13:24:02,849 nc.prime_cache       DEBUG    Querying https://staging.nccopwatch.org/api/agency/-1/stops-grouped-by-purpose/\n",
      "2024-10-29 13:24:10,603 nc.prime_cache       DEBUG    Querying https://staging.nccopwatch.org/api/agency/-1/contraband/\n",
      "2024-10-29 13:24:17,129 nc.prime_cache       DEBUG    Querying https://staging.nccopwatch.org/api/agency/-1/searches-by-percentage/\n",
      "2024-10-29 13:24:25,106 nc.prime_cache       DEBUG    Querying https://staging.nccopwatch.org/api/agency/-1/searches-by-count/\n",
      "2024-10-29 13:24:28,045 nc.prime_cache       DEBUG    Querying https://staging.nccopwatch.org/api/agency/-1/search-rate/\n",
      "2024-10-29 13:24:37,904 nc.prime_cache       DEBUG    Querying https://staging.nccopwatch.org/api/agency/-1/contraband-stop-purpose/\n",
      "2024-10-29 13:24:52,808 nc.prime_cache       DEBUG    Querying https://staging.nccopwatch.org/api/agency/-1/contraband-grouped-stop-purpose/\n",
      "2024-10-29 13:25:03,642 nc.prime_cache       DEBUG    Querying https://staging.nccopwatch.org/api/agency/-1/contraband-grouped-stop-purpose/modal/\n",
      "2024-10-29 13:25:03,997 nc.prime_cache       DEBUG    Querying https://staging.nccopwatch.org/api/agency/-1/use-of-force/\n",
      "2024-10-29 13:25:07,257 nc.prime_cache       DEBUG    Querying https://staging.nccopwatch.org/api/agency/-1/arrests-percentage-of-stops/\n",
      "2024-10-29 13:25:16,574 nc.prime_cache       DEBUG    Querying https://staging.nccopwatch.org/api/agency/-1/arrests-percentage-of-searches/\n",
      "2024-10-29 13:25:26,919 nc.prime_cache       DEBUG    Querying https://staging.nccopwatch.org/api/agency/-1/arrests-stops-driver-arrested/\n",
      "2024-10-29 13:25:37,225 nc.prime_cache       DEBUG    Querying https://staging.nccopwatch.org/api/agency/-1/arrests-percentage-of-stops-by-purpose-group/\n",
      "2024-10-29 13:25:41,654 nc.prime_cache       DEBUG    Querying https://staging.nccopwatch.org/api/agency/-1/arrests-percentage-of-stops-per-stop-purpose/\n",
      "2024-10-29 13:25:45,990 nc.prime_cache       DEBUG    Querying https://staging.nccopwatch.org/api/agency/-1/arrests-percentage-of-searches-by-purpose-group/\n",
      "2024-10-29 13:25:55,940 nc.prime_cache       DEBUG    Querying https://staging.nccopwatch.org/api/agency/-1/arrests-percentage-of-searches-per-stop-purpose/\n",
      "2024-10-29 13:26:04,879 nc.prime_cache       DEBUG    Querying https://staging.nccopwatch.org/api/agency/-1/arrests-percentage-of-stops-per-contraband-type/\n",
      "2024-10-29 13:26:31,134 nc.prime_cache       INFO     Primed cache (agency_id=-1, officer_id=None, num_stops=30815284)\n",
      "2024-10-29 13:26:31,138 celery.app.trace     INFO     Task nc.tasks.prime_group_cache[1aadffd4-ce36-436d-ab4d-6a3e7d397a03] succeeded in 196.41544181667268s: (-1, None)\n",
      "^C\n"
     ]
    }
   ],
   "source": [
    "! kubectl -n trafficstops-staging logs -lapp=celery-worker -f"
   ]
  },
  {
   "cell_type": "markdown",
   "id": "76546ae7-3308-4b3a-9b32-987eeae25640",
   "metadata": {},
   "source": [
    "## Query staging site"
   ]
  },
  {
   "cell_type": "code",
   "execution_count": 250,
   "id": "f56ff017-ce39-4b7f-9364-e99bed8470e1",
   "metadata": {},
   "outputs": [
    {
     "name": "stdout",
     "output_type": "stream",
     "text": [
      "HTTP/2 200 \n",
      "\u001b[1mcontent-type\u001b[0m: application/json\n",
      "\u001b[1mcontent-length\u001b[0m: 2406\n",
      "\u001b[1mdate\u001b[0m: Tue, 29 Oct 2024 14:46:24 GMT\n",
      "\u001b[1mallow\u001b[0m: GET, HEAD, OPTIONS\n",
      "\u001b[1mx-frame-options\u001b[0m: DENY\n",
      "\u001b[1mcontent-language\u001b[0m: en\n",
      "\u001b[1mx-content-type-options\u001b[0m: nosniff\n",
      "\u001b[1mx-xss-protection\u001b[0m: 1; mode=block\n",
      "\u001b[1mreferrer-policy\u001b[0m: same-origin\n",
      "\u001b[1mstrict-transport-security\u001b[0m: max-age=15724800; includeSubDomains\n",
      "\u001b[1mvary\u001b[0m: Accept-Encoding\n",
      "\u001b[1mx-cache\u001b[0m: Miss from cloudfront\n",
      "\u001b[1mvia\u001b[0m: 1.1 6ffeffd65f1c367ca03a4f9f7ea03546.cloudfront.net (CloudFront)\n",
      "\u001b[1mx-amz-cf-pop\u001b[0m: ATL59-P1\n",
      "\u001b[1mx-amz-cf-id\u001b[0m: muh4RyrYuqpHDVISpNJvF6D04Q6iFtmCGcX-6nHEqXNYDw1qCplbrA==\n",
      "\n"
     ]
    }
   ],
   "source": [
    "! curl --user \"forwardjustice:trafficstops\" --head https://staging.nccopwatch.org/api/agency/80/stops/"
   ]
  },
  {
   "cell_type": "code",
   "execution_count": 251,
   "id": "db81f718-44da-4986-9f99-505a3a369a7b",
   "metadata": {},
   "outputs": [
    {
     "name": "stdout",
     "output_type": "stream",
     "text": [
      "HTTP/2 200 \n",
      "\u001b[1mcontent-type\u001b[0m: application/json\n",
      "\u001b[1mcontent-length\u001b[0m: 2406\n",
      "\u001b[1mdate\u001b[0m: Tue, 29 Oct 2024 14:46:24 GMT\n",
      "\u001b[1mallow\u001b[0m: GET, HEAD, OPTIONS\n",
      "\u001b[1mx-frame-options\u001b[0m: DENY\n",
      "\u001b[1mcontent-language\u001b[0m: en\n",
      "\u001b[1mx-content-type-options\u001b[0m: nosniff\n",
      "\u001b[1mx-xss-protection\u001b[0m: 1; mode=block\n",
      "\u001b[1mreferrer-policy\u001b[0m: same-origin\n",
      "\u001b[1mstrict-transport-security\u001b[0m: max-age=15724800; includeSubDomains\n",
      "\u001b[1mvary\u001b[0m: Accept-Encoding\n",
      "\u001b[1mx-cache\u001b[0m: Hit from cloudfront\n",
      "\u001b[1mvia\u001b[0m: 1.1 2a89debb44c0cd298f9ed7c7b3157cfa.cloudfront.net (CloudFront)\n",
      "\u001b[1mx-amz-cf-pop\u001b[0m: ATL59-P1\n",
      "\u001b[1mx-amz-cf-id\u001b[0m: _re2TbcWlMZGsHR5c0fkR24hAi6Fe1JDNEIy8lf3emzIhsW9d1bwbw==\n",
      "\u001b[1mage\u001b[0m: 4\n",
      "\n"
     ]
    }
   ],
   "source": [
    "! curl --user \"forwardjustice:trafficstops\" --head https://staging.nccopwatch.org/api/agency/80/stops/"
   ]
  },
  {
   "cell_type": "code",
   "execution_count": 286,
   "id": "c3ecdbd4-0342-4325-a379-a4b15b73cc06",
   "metadata": {},
   "outputs": [
    {
     "name": "stdout",
     "output_type": "stream",
     "text": [
      "[{\"year\":2001,\"asian\":0,\"black\":1,\"native_american\":0,\"other\":0,\"white\":0,\"hispanic\":0},{\"year\":2002,\"asian\":251,\"black\":8128,\"native_american\":21,\"other\":303,\"white\":4414,\"hispanic\":1960},{\"year\":2003,\"asian\":204,\"black\":8323,\"native_american\":11,\"other\":139,\"white\":4581,\"hispanic\":2108},{\"year\":2004,\"asian\":215,\"black\":6739,\"native_american\":6,\"other\":168,\"white\":4526,\"hispanic\":1644},{\"year\":2005,\"asian\":163,\"black\":5626,\"native_american\":7,\"other\":149,\"white\":3353,\"hispanic\":1377},{\"year\":2006,\"asian\":178,\"black\":7186,\"native_american\":40,\"other\":94,\"white\":3850,\"hispanic\":1626},{\"year\":2007,\"asian\":261,\"black\":10330,\"native_american\":70,\"other\":75,\"white\":5324,\"hispanic\":2288},{\"year\":2008,\"asian\":382,\"black\":16394,\"native_american\":90,\"other\":98,\"white\":7221,\"hispanic\":3199},{\"year\":2009,\"asian\":213,\"black\":8882,\"native_american\":60,\"other\":38,\"white\":4287,\"hispanic\":1517},{\"year\":2010,\"asian\":444,\"black\":15929,\"native_american\":127,\"other\":69,\"white\":7234,\"hispanic\":3755},{\"year\":2011,\"asian\":511,\"black\":15762,\"native_american\":156,\"other\":104,\"white\":7451,\"hispanic\":3382},{\"year\":2012,\"asian\":387,\"black\":13970,\"native_american\":102,\"other\":90,\"white\":5895,\"hispanic\":3203},{\"year\":2013,\"asian\":462,\"black\":15280,\"native_american\":192,\"other\":96,\"white\":6641,\"hispanic\":2959},{\"year\":2014,\"asian\":378,\"black\":12841,\"native_american\":143,\"other\":84,\"white\":5982,\"hispanic\":2512},{\"year\":2015,\"asian\":359,\"black\":12258,\"native_american\":141,\"other\":101,\"white\":5674,\"hispanic\":2203},{\"year\":2016,\"asian\":259,\"black\":8534,\"native_american\":119,\"other\":46,\"white\":4183,\"hispanic\":1613},{\"year\":2017,\"asian\":236,\"black\":6703,\"native_american\":55,\"other\":51,\"white\":3320,\"hispanic\":1200},{\"year\":2018,\"asian\":280,\"black\":7716,\"native_american\":59,\"other\":69,\"white\":3266,\"hispanic\":1297},{\"year\":2019,\"asian\":274,\"black\":9232,\"native_american\":64,\"other\":79,\"white\":3708,\"hispanic\":1454},{\"year\":2020,\"asian\":204,\"black\":6597,\"native_american\":41,\"other\":34,\"white\":2660,\"hispanic\":1288},{\"year\":2021,\"asian\":250,\"black\":7063,\"native_american\":32,\"other\":36,\"white\":2895,\"hispanic\":1405},{\"year\":2022,\"asian\":218,\"black\":6413,\"native_american\":30,\"other\":41,\"white\":1929,\"hispanic\":1401},{\"year\":2023,\"asian\":433,\"black\":8672,\"native_american\":82,\"other\":34,\"white\":3319,\"hispanic\":2214},{\"year\":2024,\"asian\":246,\"black\":3310,\"native_american\":17,\"other\":27,\"white\":1538,\"hispanic\":983}]"
     ]
    }
   ],
   "source": [
    "! curl --user \"forwardjustice:trafficstops\" https://staging.nccopwatch.org/api/agency/80/stops/"
   ]
  },
  {
   "cell_type": "code",
   "execution_count": 281,
   "id": "a1107a09-2eea-4185-88c8-634133c6f7a4",
   "metadata": {},
   "outputs": [
    {
     "name": "stdout",
     "output_type": "stream",
     "text": [
      "[{\"year\":2001,\"asian\":0,\"black\":1,\"native_american\":0,\"other\":0,\"white\":0,\"hispanic\":0},{\"year\":2002,\"asian\":251,\"black\":8128,\"native_american\":21,\"other\":303,\"white\":4414,\"hispanic\":1960},{\"year\":2003,\"asian\":204,\"black\":8323,\"native_american\":11,\"other\":139,\"white\":4581,\"hispanic\":2108},{\"year\":2004,\"asian\":215,\"black\":6739,\"native_american\":6,\"other\":168,\"white\":4526,\"hispanic\":1644},{\"year\":2005,\"asian\":163,\"black\":5626,\"native_american\":7,\"other\":149,\"white\":3353,\"hispanic\":1377},{\"year\":2006,\"asian\":178,\"black\":7186,\"native_american\":40,\"other\":94,\"white\":3850,\"hispanic\":1626},{\"year\":2007,\"asian\":261,\"black\":10330,\"native_american\":70,\"other\":75,\"white\":5324,\"hispanic\":2288},{\"year\":2008,\"asian\":382,\"black\":16394,\"native_american\":90,\"other\":98,\"white\":7221,\"hispanic\":3199},{\"year\":2009,\"asian\":213,\"black\":8882,\"native_american\":60,\"other\":38,\"white\":4287,\"hispanic\":1517},{\"year\":2010,\"asian\":444,\"black\":15929,\"native_american\":127,\"other\":69,\"white\":7234,\"hispanic\":3755},{\"year\":2011,\"asian\":511,\"black\":15762,\"native_american\":156,\"other\":104,\"white\":7451,\"hispanic\":3382},{\"year\":2012,\"asian\":387,\"black\":13970,\"native_american\":102,\"other\":90,\"white\":5895,\"hispanic\":3203},{\"year\":2013,\"asian\":462,\"black\":15280,\"native_american\":192,\"other\":96,\"white\":6641,\"hispanic\":2959},{\"year\":2014,\"asian\":378,\"black\":12841,\"native_american\":143,\"other\":84,\"white\":5982,\"hispanic\":2512},{\"year\":2015,\"asian\":359,\"black\":12258,\"native_american\":141,\"other\":101,\"white\":5674,\"hispanic\":2203},{\"year\":2016,\"asian\":259,\"black\":8534,\"native_american\":119,\"other\":46,\"white\":4183,\"hispanic\":1613},{\"year\":2017,\"asian\":236,\"black\":6703,\"native_american\":55,\"other\":51,\"white\":3320,\"hispanic\":1200},{\"year\":2018,\"asian\":280,\"black\":7716,\"native_american\":59,\"other\":69,\"white\":3266,\"hispanic\":1297},{\"year\":2019,\"asian\":274,\"black\":9232,\"native_american\":64,\"other\":79,\"white\":3708,\"hispanic\":1454},{\"year\":2020,\"asian\":204,\"black\":6597,\"native_american\":41,\"other\":34,\"white\":2660,\"hispanic\":1288},{\"year\":2021,\"asian\":250,\"black\":7063,\"native_american\":32,\"other\":36,\"white\":2895,\"hispanic\":1405},{\"year\":2022,\"asian\":218,\"black\":6413,\"native_american\":30,\"other\":41,\"white\":1929,\"hispanic\":1401},{\"year\":2023,\"asian\":433,\"black\":8672,\"native_american\":82,\"other\":34,\"white\":3319,\"hispanic\":2214},{\"year\":2024,\"asian\":246,\"black\":3310,\"native_american\":17,\"other\":27,\"white\":1538,\"hispanic\":983}]"
     ]
    }
   ],
   "source": [
    "! curl --user \"forwardjustice:trafficstops\" https://staging.nccopwatch.org/api/agency/80/stops/"
   ]
  },
  {
   "cell_type": "code",
   "execution_count": 31,
   "id": "4eebc390-c324-4447-851d-11193bcfe856",
   "metadata": {},
   "outputs": [],
   "source": [
    "! open https://staging.nccopwatch.org/agencies/80/traffic-stops"
   ]
  },
  {
   "cell_type": "markdown",
   "id": "9f9b158f-2854-4934-9279-ad7e6a989c25",
   "metadata": {},
   "source": [
    "## Query logs"
   ]
  },
  {
   "cell_type": "code",
   "execution_count": 16,
   "id": "f9f98c7b-0ce4-4ab5-b921-eca3df21e66c",
   "metadata": {},
   "outputs": [],
   "source": [
    "import json\n",
    "import os\n",
    "from pathlib import Path\n",
    "\n",
    "import pandas as pd\n",
    "import requests\n",
    "from rich import print"
   ]
  },
  {
   "cell_type": "code",
   "execution_count": 17,
   "id": "6ee89535-1716-4945-94d9-c01104c2e3f9",
   "metadata": {},
   "outputs": [
    {
     "data": {
      "text/plain": [
       "98"
      ]
     },
     "execution_count": 17,
     "metadata": {},
     "output_type": "execute_result"
    }
   ],
   "source": [
    "query = \"\"\"\n",
    "{\n",
    "  actor {\n",
    "    account(id: 3833993) {\n",
    "      nrql(query: \"SELECT `message` FROM Log WHERE `namespace_name` = 'trafficstops-staging' AND `container_name` = 'app' SINCE 10 minutes ago LIMIT MAX\") {\n",
    "        results\n",
    "      }\n",
    "    }\n",
    "  }\n",
    "}\n",
    "\"\"\"\n",
    "\n",
    "def get_newrelic_logs():\n",
    "    endpoint = \"https://api.newrelic.com/graphql\"\n",
    "    headers = {'API-Key': os.getenv(\"NEW_RELIC_USER_KEY\")}\n",
    "    response = requests.post(endpoint, headers=headers, json={\"query\": query})\n",
    "    response.raise_for_status()\n",
    "\n",
    "    if response.status_code == 200:\n",
    "        data = json.loads(response.content)\n",
    "        data = [row[\"message\"] for row in data[\"data\"][\"actor\"][\"account\"][\"nrql\"][\"results\"]]\n",
    "        data = [row for row in data if \"_path\" in row]\n",
    "        data = [row.split(\"stderr F\")[1] for row in data]\n",
    "        return data\n",
    "\n",
    "text = \",\".join(get_newrelic_logs())\n",
    "text = f\"[{text}]\"\n",
    "pod_requests = json.loads(text)\n",
    "len(pod_requests)"
   ]
  },
  {
   "cell_type": "code",
   "execution_count": 18,
   "id": "e3a5ace6-17bb-4ca8-9e35-722c4568fa92",
   "metadata": {},
   "outputs": [
    {
     "name": "stdout",
     "output_type": "stream",
     "text": [
      "<class 'pandas.core.frame.DataFrame'>\n",
      "Index: 98 entries, 97 to 0\n",
      "Data columns (total 44 columns):\n",
      " #   Column                     Non-Null Count  Dtype              \n",
      "---  ------                     --------------  -----              \n",
      " 0   _type                      98 non-null     object             \n",
      " 1   _path                      98 non-null     object             \n",
      " 2   _now                       98 non-null     datetime64[ns, UTC]\n",
      " 3   Content-Type               49 non-null     object             \n",
      " 4   Vary                       37 non-null     object             \n",
      " 5   Allow                      37 non-null     object             \n",
      " 6   Host                       49 non-null     object             \n",
      " 7   X-Request-Id               49 non-null     object             \n",
      " 8   X-Real-Ip                  49 non-null     object             \n",
      " 9   X-Forwarded-For            49 non-null     object             \n",
      " 10  X-Forwarded-Host           49 non-null     object             \n",
      " 11  X-Forwarded-Port           49 non-null     object             \n",
      " 12  X-Forwarded-Proto          49 non-null     object             \n",
      " 13  X-Forwarded-Scheme         49 non-null     object             \n",
      " 14  X-Scheme                   49 non-null     object             \n",
      " 15  X-Original-Forwarded-For   49 non-null     object             \n",
      " 16  User-Agent                 49 non-null     object             \n",
      " 17  X-Amz-Cf-Id                49 non-null     object             \n",
      " 18  Cookie                     11 non-null     object             \n",
      " 19  Accept-Language            12 non-null     object             \n",
      " 20  Accept                     37 non-null     object             \n",
      " 21  Referer                    10 non-null     object             \n",
      " 22  Via                        49 non-null     object             \n",
      " 23  Accept-Encoding            49 non-null     object             \n",
      " 24  X-Newrelic-Id              12 non-null     object             \n",
      " 25  Sec-Ch-Ua-Platform         14 non-null     object             \n",
      " 26  Sec-Ch-Ua                  14 non-null     object             \n",
      " 27  Sec-Ch-Ua-Mobile           14 non-null     object             \n",
      " 28  Newrelic                   12 non-null     object             \n",
      " 29  Traceparent                12 non-null     object             \n",
      " 30  Tracestate                 12 non-null     object             \n",
      " 31  Sec-Fetch-Site             22 non-null     object             \n",
      " 32  Sec-Fetch-Mode             22 non-null     object             \n",
      " 33  Sec-Fetch-Dest             22 non-null     object             \n",
      " 34  Priority                   17 non-null     object             \n",
      " 35  Cloudfront-Viewer-Country  37 non-null     object             \n",
      " 36  Expires                    12 non-null     object             \n",
      " 37  Cache-Control              15 non-null     object             \n",
      " 38  Upgrade-Insecure-Requests  5 non-null      object             \n",
      " 39  Sec-Fetch-User             5 non-null      object             \n",
      " 40  X-Newrelic-Synthetics-V2   11 non-null     object             \n",
      " 41  X-Abuse-Info               11 non-null     object             \n",
      " 42  X-Newrelic-Synthetics      11 non-null     object             \n",
      " 43  Dnt                        11 non-null     object             \n",
      "dtypes: datetime64[ns, UTC](1), object(43)\n",
      "memory usage: 34.5+ KB\n"
     ]
    }
   ],
   "source": [
    "pod_logs = pd.DataFrame(pod_requests)\n",
    "pod_logs[\"_now\"] = pd.to_datetime(pod_logs[\"_now\"])\n",
    "pod_logs.sort_values(\"_now\", inplace=True)\n",
    "pod_logs.info()"
   ]
  },
  {
   "cell_type": "code",
   "execution_count": 40,
   "id": "f8990eb1-dd49-4458-a44b-c3268c79e42f",
   "metadata": {},
   "outputs": [],
   "source": [
    "# pod_my_ip = pod_logs[\"X-Original-Forwarded-For\"] == \"\"\n",
    "# pod_durham_stops = pod_logs[\"_path\"] == \"/api/agency/80/stops/\"\n",
    "\n",
    "# with pd.option_context('display.max_rows', 250, 'display.max_columns', 45, \"display.max_colwidth\", None):\n",
    "#     display(pod_logs[pod_durham_stops])"
   ]
  },
  {
   "cell_type": "markdown",
   "id": "3157ac61-9af6-4987-bab7-9fff53227028",
   "metadata": {},
   "source": [
    "## Download CloudFront logs"
   ]
  },
  {
   "cell_type": "code",
   "execution_count": 20,
   "id": "1d2f5f60-9b83-46ff-b5a5-1ef59db50604",
   "metadata": {},
   "outputs": [],
   "source": [
    "import boto3\n",
    "import datetime as dt\n",
    "\n",
    "from IPython.display import display\n",
    "import pandas as pd"
   ]
  },
  {
   "cell_type": "code",
   "execution_count": 21,
   "id": "6881eb13-b715-4543-9dbd-44236003fc6e",
   "metadata": {},
   "outputs": [],
   "source": [
    "! mkdir -p input/"
   ]
  },
  {
   "cell_type": "code",
   "execution_count": 23,
   "id": "bb0d2842-1c09-4af9-a372-c756d131a807",
   "metadata": {},
   "outputs": [],
   "source": [
    "s3 = boto3.resource('s3')\n",
    "bucket = s3.Bucket('trafficstops-stack-privateassetsbucket-qwb42tui611z')"
   ]
  },
  {
   "cell_type": "code",
   "execution_count": 31,
   "id": "f09b2007-3b12-415d-b031-d0bb948982cf",
   "metadata": {},
   "outputs": [
    {
     "data": {
      "text/html": [
       "<pre style=\"white-space:pre;overflow-x:auto;line-height:normal;font-family:Menlo,'DejaVu Sans Mono',consolas,'Courier New',monospace\">Downloading E2OFFI0H5HY2N8.<span style=\"color: #008080; text-decoration-color: #008080; font-weight: bold\">2024</span>-<span style=\"color: #008080; text-decoration-color: #008080; font-weight: bold\">10</span>-<span style=\"color: #008080; text-decoration-color: #008080; font-weight: bold\">29</span>-<span style=\"color: #008080; text-decoration-color: #008080; font-weight: bold\">19.04227993</span>.gz\n",
       "</pre>\n"
      ],
      "text/plain": [
       "Downloading E2OFFI0H5HY2N8.\u001b[1;36m2024\u001b[0m-\u001b[1;36m10\u001b[0m-\u001b[1;36m29\u001b[0m-\u001b[1;36m19.04227993\u001b[0m.gz\n"
      ]
     },
     "metadata": {},
     "output_type": "display_data"
    }
   ],
   "source": [
    "# Download CloudFront logs\n",
    "\n",
    "now = dt.datetime.utcnow()\n",
    "past_few_hours = dt.timedelta(hours=1)\n",
    "\n",
    "objects = bucket.objects.filter(Prefix='E2OFFI0H5HY2N8.2024-10-29')\n",
    "for obj in objects:\n",
    "    date = dt.datetime.strptime(obj.key.split(\".\")[1], '%Y-%m-%d-%H')\n",
    "    if date > (now - past_few_hours):\n",
    "        local_path = (Path(\"input/\") / Path(obj.key).stem)\n",
    "        if not local_path.exists():\n",
    "            print(f\"Downloading {obj.key}\")\n",
    "            obj.Object().download_file(str(local_path) + \".gz\")"
   ]
  },
  {
   "cell_type": "code",
   "execution_count": 32,
   "id": "3dffdea2-b060-4888-8190-c68b6cbc2d89",
   "metadata": {},
   "outputs": [],
   "source": [
    "! gunzip input/*.gz"
   ]
  },
  {
   "cell_type": "code",
   "execution_count": 33,
   "id": "ca713045-a4ed-418d-8787-7c2119709841",
   "metadata": {},
   "outputs": [],
   "source": [
    "columns = [\n",
    "    'date',\n",
    "    'time',\n",
    "    'x-edge-location',\n",
    "    'sc-bytes',\n",
    "    'c-ip',\n",
    "    'cs-method',\n",
    "    'cs(Host)',\n",
    "    'cs-uri-stem',\n",
    "    'sc-status',\n",
    "    'cs(Referer)',\n",
    "    'cs(User-Agent)',\n",
    "    'cs-uri-query',\n",
    "    'cs(Cookie)',\n",
    "    'x-edge-result-type',\n",
    "    'x-edge-request-id',\n",
    "    'x-host-header',\n",
    "    'cs-protocol',\n",
    "    'cs-bytes',\n",
    "    'time-taken',\n",
    "    'x-forwarded-for',\n",
    "    'ssl-protocol',\n",
    "    'ssl-cipher',\n",
    "    'x-edge-response-result-type',\n",
    "    'cs-protocol-version',\n",
    "    'fle-status',\n",
    "    'fle-encrypted-fields',\n",
    "    'c-port',\n",
    "    'time-to-first-byte',\n",
    "    'x-edge-detailed-result-type',\n",
    "    'sc-content-type',\n",
    "    'sc-content-len',\n",
    "    'sc-range-start',\n",
    "    'sc-range-end'\n",
    "]"
   ]
  },
  {
   "cell_type": "code",
   "execution_count": 34,
   "id": "5e815334-4771-45f0-ae49-f646a76c0be4",
   "metadata": {},
   "outputs": [
    {
     "name": "stdout",
     "output_type": "stream",
     "text": [
      "<class 'pandas.core.frame.DataFrame'>\n",
      "Index: 553 entries, 371 to 442\n",
      "Data columns (total 33 columns):\n",
      " #   Column                       Non-Null Count  Dtype         \n",
      "---  ------                       --------------  -----         \n",
      " 0   date                         553 non-null    datetime64[ns]\n",
      " 1   x-edge-location              553 non-null    object        \n",
      " 2   sc-bytes                     553 non-null    int64         \n",
      " 3   c-ip                         553 non-null    object        \n",
      " 4   cs-method                    553 non-null    object        \n",
      " 5   cs(Host)                     553 non-null    object        \n",
      " 6   cs-uri-stem                  553 non-null    object        \n",
      " 7   sc-status                    553 non-null    int64         \n",
      " 8   cs(Referer)                  553 non-null    object        \n",
      " 9   cs(User-Agent)               553 non-null    object        \n",
      " 10  cs-uri-query                 553 non-null    object        \n",
      " 11  cs(Cookie)                   553 non-null    object        \n",
      " 12  x-edge-result-type           553 non-null    object        \n",
      " 13  x-edge-request-id            553 non-null    object        \n",
      " 14  x-host-header                553 non-null    object        \n",
      " 15  cs-protocol                  553 non-null    object        \n",
      " 16  cs-bytes                     553 non-null    int64         \n",
      " 17  time-taken                   553 non-null    float64       \n",
      " 18  x-forwarded-for              553 non-null    object        \n",
      " 19  ssl-protocol                 553 non-null    object        \n",
      " 20  ssl-cipher                   553 non-null    object        \n",
      " 21  x-edge-response-result-type  553 non-null    object        \n",
      " 22  cs-protocol-version          553 non-null    object        \n",
      " 23  fle-status                   553 non-null    object        \n",
      " 24  fle-encrypted-fields         553 non-null    object        \n",
      " 25  c-port                       553 non-null    int64         \n",
      " 26  time-to-first-byte           553 non-null    float64       \n",
      " 27  x-edge-detailed-result-type  553 non-null    object        \n",
      " 28  sc-content-type              553 non-null    object        \n",
      " 29  sc-content-len               553 non-null    object        \n",
      " 30  sc-range-start               553 non-null    object        \n",
      " 31  sc-range-end                 553 non-null    object        \n",
      " 32  X-Request-Id                 553 non-null    object        \n",
      "dtypes: datetime64[ns](1), float64(2), int64(4), object(26)\n",
      "memory usage: 146.9+ KB\n"
     ]
    }
   ],
   "source": [
    "dfs = []\n",
    "\n",
    "for path in sorted(Path(\"input/\").glob(\"E2OFFI0H5HY2N8*\")):\n",
    "    dfs.append(\n",
    "        pd.read_csv(\n",
    "            path,\n",
    "            delimiter='\\t',\n",
    "            skiprows=2,\n",
    "            names=columns,\n",
    "        )\n",
    "    )\n",
    "\n",
    "cf_logs = pd.concat(dfs, ignore_index=True)\n",
    "cf_logs[\"date\"] = pd.to_datetime(cf_logs['date'] + ' ' + cf_logs['time'])\n",
    "# cf_logs[\"sc-content-len\"] = cf_logs[\"sc-content-len\"].replace('-', pd.NA).astype(\"Int64\")\n",
    "cf_logs[\"X-Request-Id\"] = cf_logs[\"x-edge-request-id\"]\n",
    "cf_logs.drop(columns=[\"time\"], inplace=True)\n",
    "cf_logs.sort_values(\"date\", inplace=True)\n",
    "cf_logs.info()"
   ]
  },
  {
   "cell_type": "code",
   "execution_count": 45,
   "id": "483b4d84-2f56-421e-9218-afc125fb6d8c",
   "metadata": {},
   "outputs": [],
   "source": [
    "# my_ip = cf_logs[\"c-ip\"] == \"\"\n",
    "# durham_stops = cf_logs[\"cs-uri-stem\"] == \"/api/agency/80/stops/\""
   ]
  },
  {
   "cell_type": "code",
   "execution_count": 42,
   "id": "4eea0e3a-3db1-4798-a4ec-a95d6aae6e9e",
   "metadata": {},
   "outputs": [
    {
     "data": {
      "text/plain": [
       "datetime.datetime(2024, 10, 29, 19, 56, 51, 396469)"
      ]
     },
     "execution_count": 42,
     "metadata": {},
     "output_type": "execute_result"
    }
   ],
   "source": [
    "dt.datetime.utcnow()"
   ]
  },
  {
   "cell_type": "code",
   "execution_count": 46,
   "id": "0cd6e5a0-c99d-4e3e-8fe1-dc6805b759f5",
   "metadata": {},
   "outputs": [
    {
     "data": {
      "text/html": [
       "<div>\n",
       "<style scoped>\n",
       "    .dataframe tbody tr th:only-of-type {\n",
       "        vertical-align: middle;\n",
       "    }\n",
       "\n",
       "    .dataframe tbody tr th {\n",
       "        vertical-align: top;\n",
       "    }\n",
       "\n",
       "    .dataframe thead th {\n",
       "        text-align: right;\n",
       "    }\n",
       "</style>\n",
       "<table border=\"1\" class=\"dataframe\">\n",
       "  <thead>\n",
       "    <tr style=\"text-align: right;\">\n",
       "      <th></th>\n",
       "      <th>date</th>\n",
       "      <th>x-edge-location</th>\n",
       "      <th>sc-bytes</th>\n",
       "      <th>c-ip</th>\n",
       "      <th>cs-method</th>\n",
       "      <th>cs(Host)</th>\n",
       "      <th>cs-uri-stem</th>\n",
       "      <th>sc-status</th>\n",
       "      <th>cs(Referer)</th>\n",
       "      <th>cs(User-Agent)</th>\n",
       "      <th>cs-uri-query</th>\n",
       "      <th>cs(Cookie)</th>\n",
       "      <th>x-edge-result-type</th>\n",
       "      <th>x-edge-request-id</th>\n",
       "      <th>x-host-header</th>\n",
       "      <th>cs-protocol</th>\n",
       "      <th>cs-bytes</th>\n",
       "      <th>time-taken</th>\n",
       "      <th>x-forwarded-for</th>\n",
       "      <th>ssl-protocol</th>\n",
       "      <th>ssl-cipher</th>\n",
       "      <th>x-edge-response-result-type</th>\n",
       "      <th>cs-protocol-version</th>\n",
       "      <th>fle-status</th>\n",
       "      <th>fle-encrypted-fields</th>\n",
       "      <th>c-port</th>\n",
       "      <th>time-to-first-byte</th>\n",
       "      <th>x-edge-detailed-result-type</th>\n",
       "      <th>sc-content-type</th>\n",
       "      <th>sc-content-len</th>\n",
       "      <th>sc-range-start</th>\n",
       "      <th>sc-range-end</th>\n",
       "      <th>X-Request-Id</th>\n",
       "    </tr>\n",
       "  </thead>\n",
       "  <tbody>\n",
       "  </tbody>\n",
       "</table>\n",
       "</div>"
      ],
      "text/plain": [
       "Empty DataFrame\n",
       "Columns: [date, x-edge-location, sc-bytes, c-ip, cs-method, cs(Host), cs-uri-stem, sc-status, cs(Referer), cs(User-Agent), cs-uri-query, cs(Cookie), x-edge-result-type, x-edge-request-id, x-host-header, cs-protocol, cs-bytes, time-taken, x-forwarded-for, ssl-protocol, ssl-cipher, x-edge-response-result-type, cs-protocol-version, fle-status, fle-encrypted-fields, c-port, time-to-first-byte, x-edge-detailed-result-type, sc-content-type, sc-content-len, sc-range-start, sc-range-end, X-Request-Id]\n",
       "Index: []"
      ]
     },
     "metadata": {},
     "output_type": "display_data"
    }
   ],
   "source": [
    "with pd.option_context('display.max_rows', 250, 'display.max_columns', 40, \"display.max_colwidth\", None):\n",
    "    display(cf_logs[my_ip & durham_stops])"
   ]
  }
 ],
 "metadata": {
  "kernelspec": {
   "display_name": "Python 3 (ipykernel)",
   "language": "python",
   "name": "python3"
  },
  "language_info": {
   "codemirror_mode": {
    "name": "ipython",
    "version": 3
   },
   "file_extension": ".py",
   "mimetype": "text/x-python",
   "name": "python",
   "nbconvert_exporter": "python",
   "pygments_lexer": "ipython3",
   "version": "3.10.11"
  }
 },
 "nbformat": 4,
 "nbformat_minor": 5
}
