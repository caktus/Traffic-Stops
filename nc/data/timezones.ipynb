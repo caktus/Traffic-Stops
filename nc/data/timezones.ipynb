{
 "cells": [
  {
   "cell_type": "code",
   "execution_count": 1,
   "id": "jewish-location",
   "metadata": {},
   "outputs": [],
   "source": [
    "# Setup Notebook to load Django code\n",
    "# From project root, run: jupyter-lab\n",
    "\n",
    "import os\n",
    "import sys\n",
    "\n",
    "os.chdir('../..')\n",
    "\n",
    "import django\n",
    "django.setup()"
   ]
  },
  {
   "cell_type": "code",
   "execution_count": 22,
   "id": "early-preserve",
   "metadata": {},
   "outputs": [],
   "source": [
    "import datetime as dt\n",
    "import pytz\n",
    "\n",
    "from django.utils import timezone\n",
    "from django.test import override_settings\n",
    "\n",
    "from nc.models import Stop, Person, Agency"
   ]
  },
  {
   "cell_type": "code",
   "execution_count": 13,
   "id": "excessive-broadcast",
   "metadata": {},
   "outputs": [
    {
     "name": "stderr",
     "output_type": "stream",
     "text": [
      "2021-02-11 14:07:54,148 caching              DEBUG    cache hit: 7c97264763d28c00510b2512843c6df1\n"
     ]
    }
   ],
   "source": [
    "durham = Agency.objects.get(pk=80)"
   ]
  },
  {
   "cell_type": "markdown",
   "id": "under-wiring",
   "metadata": {},
   "source": [
    "# Raw Stops from Stop.csv"
   ]
  },
  {
   "cell_type": "code",
   "execution_count": 12,
   "id": "destroyed-greeting",
   "metadata": {},
   "outputs": [
    {
     "name": "stdout",
     "output_type": "stream",
     "text": [
      "26280425,Durham Police Department,2020-07-31 20:26:00.000,6,3,0,0,0,0,0,0,0,1168,32,\n"
     ]
    }
   ],
   "source": [
    "# 7/31, 8:26p ET\n",
    "! grep 26280425 ncdata/Stop.csv"
   ]
  },
  {
   "cell_type": "code",
   "execution_count": 11,
   "id": "respected-excellence",
   "metadata": {},
   "outputs": [
    {
     "name": "stdout",
     "output_type": "stream",
     "text": [
      "26351840,Durham Police Department,2020-08-01 02:25:00.000,5,1,0,0,0,0,0,0,0,1260,32,\n"
     ]
    }
   ],
   "source": [
    "# 8/1, 2:25a ET\n",
    "! grep 26351840 ncdata/Stop.csv"
   ]
  },
  {
   "cell_type": "markdown",
   "id": "prospective-bloom",
   "metadata": {},
   "source": [
    "# UTC date filter"
   ]
  },
  {
   "cell_type": "code",
   "execution_count": 15,
   "id": "cultural-failing",
   "metadata": {},
   "outputs": [
    {
     "data": {
      "text/plain": [
       "datetime.datetime(2020, 8, 1, 0, 0, tzinfo=<UTC>)"
      ]
     },
     "execution_count": 15,
     "metadata": {},
     "output_type": "execute_result"
    }
   ],
   "source": [
    "utc = pytz.timezone(\"UTC\")\n",
    "start_date_utc = utc.localize(dt.datetime(2020, 8, 1))\n",
    "start_date_utc"
   ]
  },
  {
   "cell_type": "code",
   "execution_count": 18,
   "id": "fifth-daisy",
   "metadata": {},
   "outputs": [
    {
     "data": {
      "text/plain": [
       "(26280425, datetime.datetime(2020, 8, 1, 0, 26, tzinfo=<UTC>))"
      ]
     },
     "execution_count": 18,
     "metadata": {},
     "output_type": "execute_result"
    }
   ],
   "source": [
    "stop_utc = Stop.objects.no_cache().filter(agency=durham, date__gt=start_date_utc).order_by(\"date\").first()\n",
    "stop_utc.stop_id, stop_utc.date"
   ]
  },
  {
   "cell_type": "markdown",
   "id": "imperial-variation",
   "metadata": {},
   "source": [
    "# America/New_York date filter"
   ]
  },
  {
   "cell_type": "code",
   "execution_count": 31,
   "id": "extraordinary-receipt",
   "metadata": {},
   "outputs": [],
   "source": [
    "nyc = pytz.timezone(\"America/New_York\")\n",
    "start_date_nyc = nyc.localize(dt.datetime(2020, 8, 1))"
   ]
  },
  {
   "cell_type": "code",
   "execution_count": 32,
   "id": "alpine-peace",
   "metadata": {},
   "outputs": [
    {
     "data": {
      "text/plain": [
       "(26351840, datetime.datetime(2020, 8, 1, 6, 25, tzinfo=<UTC>))"
      ]
     },
     "execution_count": 32,
     "metadata": {},
     "output_type": "execute_result"
    }
   ],
   "source": [
    "stop_nyc = Stop.objects.no_cache().filter(agency=durham, date__gt=start_date_nyc).order_by(\"date\").first()\n",
    "stop_nyc.stop_id, stop_nyc.date"
   ]
  },
  {
   "cell_type": "markdown",
   "id": "union-disability",
   "metadata": {},
   "source": [
    "# Django's localtime and TIME_ZONE"
   ]
  },
  {
   "cell_type": "code",
   "execution_count": 29,
   "id": "acoustic-period",
   "metadata": {},
   "outputs": [
    {
     "data": {
      "text/plain": [
       "datetime.datetime(2020, 8, 1, 0, 26, tzinfo=<UTC>)"
      ]
     },
     "execution_count": 29,
     "metadata": {},
     "output_type": "execute_result"
    }
   ],
   "source": [
    "with override_settings(TIME_ZONE='UTC'):\n",
    "    date = timezone.localtime(stop_utc.date)\n",
    "date"
   ]
  },
  {
   "cell_type": "code",
   "execution_count": 30,
   "id": "empty-harbor",
   "metadata": {},
   "outputs": [
    {
     "data": {
      "text/plain": [
       "datetime.datetime(2020, 7, 31, 20, 26, tzinfo=<DstTzInfo 'America/New_York' EDT-1 day, 20:00:00 DST>)"
      ]
     },
     "execution_count": 30,
     "metadata": {},
     "output_type": "execute_result"
    }
   ],
   "source": [
    "with override_settings(TIME_ZONE=\"America/New_York\"):\n",
    "    date = timezone.localtime(stop_utc.date)\n",
    "date"
   ]
  },
  {
   "cell_type": "code",
   "execution_count": null,
   "id": "wooden-prefix",
   "metadata": {},
   "outputs": [],
   "source": []
  }
 ],
 "metadata": {
  "kernelspec": {
   "display_name": "Python 3",
   "language": "python",
   "name": "python3"
  },
  "language_info": {
   "codemirror_mode": {
    "name": "ipython",
    "version": 3
   },
   "file_extension": ".py",
   "mimetype": "text/x-python",
   "name": "python",
   "nbconvert_exporter": "python",
   "pygments_lexer": "ipython3",
   "version": "3.8.7"
  }
 },
 "nbformat": 4,
 "nbformat_minor": 5
}
