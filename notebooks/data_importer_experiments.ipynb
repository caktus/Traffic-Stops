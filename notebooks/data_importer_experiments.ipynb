{
 "cells": [
  {
   "cell_type": "code",
   "execution_count": 11,
   "metadata": {},
   "outputs": [],
   "source": [
    "#Setup Notebook to load Django code\n",
    "# From project root, run: jupyter-lab\",\n",
    "\n",
    "import os\n",
    "import sys\n",
    "import io\n",
    "from pathlib import Path\n",
    "\n",
    "django_project_dir = Path('.'),\n",
    "sys.path.insert(0, str(django_project_dir)),\n",
    "os.environ.setdefault(\"DJANGO_SETTINGS_MODULE\", \"traffic_stops.settings.dev\")\n",
    "os.environ[\"DJANGO_ALLOW_ASYNC_UNSAFE\"] = \"true\"\n",
    "\n",
    "import django\n",
    "django.setup()"
   ]
  },
  {
   "cell_type": "code",
   "execution_count": 12,
   "metadata": {},
   "outputs": [],
   "source": [
    "import psycopg2\n",
    "from psycopg2 import extras\n",
    "import pandas\n",
    "import time\n",
    "from django.conf import settings\n",
    "from sqlalchemy import create_engine"
   ]
  },
  {
   "cell_type": "code",
   "execution_count": 13,
   "metadata": {},
   "outputs": [],
   "source": [
    "pghost = os.environ.get(\"PGHOST\")\n",
    "pgport = os.environ.get(\"PGPORT\")\n",
    "pguser = os.environ.get(\"PGUSER\")\n",
    "DB_URL = os.environ.get(\"DATABASE_URL_NC\")"
   ]
  },
  {
   "cell_type": "code",
   "execution_count": 14,
   "metadata": {},
   "outputs": [],
   "source": [
    "conn = psycopg2.connect(database=\"traffic_stops_nc\", user=pguser, host=pghost, port=pgport)"
   ]
  },
  {
   "cell_type": "code",
   "execution_count": 15,
   "metadata": {},
   "outputs": [],
   "source": [
    "stop_column_names = [\n",
    "    'stop_id', \n",
    "    'agency_description', \n",
    "    'date', \n",
    "    'purpose', \n",
    "    'action', \n",
    "    'driver_arrest', \n",
    "    'passenger_arrest', \n",
    "    'encounter_force', \n",
    "    'engage_force', \n",
    "    'officer_injury', \n",
    "    'driver_injury', \n",
    "    'passenger_injury', \n",
    "    'officer_id', \n",
    "    'stop_location', \n",
    "    'stop_city'\n",
    "]\n",
    "\n",
    "person_column_names = [\n",
    "    'person_id', 'stop_id', 'type', 'age', 'gender', 'ethnicity', 'race'\n",
    "]\n",
    "\n",
    "person_map_types = {\n",
    "    'gender': str,\n",
    "    'ethnicity': str,\n",
    "    'race': str\n",
    "}\n",
    "\n",
    "\n",
    "stop_map_types = {\n",
    "    'driver_arrest': bool, \n",
    "    'passenger_arrest': bool,\n",
    "    'encounter_force': bool,\n",
    "    'engage_force': bool,\n",
    "    'officer_injury': bool,\n",
    "    'driver_injury': bool,\n",
    "    'passenger_injury': bool,\n",
    "    'officer_id': str,\n",
    "    'stop_location': str,\n",
    "    'stop_city': str\n",
    "}"
   ]
  },
  {
   "cell_type": "code",
   "execution_count": 23,
   "metadata": {},
   "outputs": [],
   "source": [
    "stop_df = pandas.read_csv(\n",
    "    Path(\"./ncdata/Stop.csv\"), \n",
    "    delimiter=',', \n",
    "    chunksize=500000,  \n",
    "    header=0, \n",
    "    names=stop_column_names, \n",
    "    dtype=stop_map_types,\n",
    "    na_filter=False)"
   ]
  },
  {
   "cell_type": "code",
   "execution_count": 40,
   "metadata": {},
   "outputs": [],
   "source": [
    "STOP_COPY = \"\"\"COPY nc_stop (stop_id, agency_description, date, purpose, action, driver_arrest, passenger_arrest, encounter_force, engage_force, officer_injury, driver_injury, passenger_injury, officer_id, stop_location, stop_city) FROM STDIN WITH DELIMITER ',' NULL AS '' CSV HEADER FORCE NOT NULL officer_id, stop_city, stop_location;\"\"\""
   ]
  },
  {
   "cell_type": "code",
   "execution_count": 44,
   "metadata": {},
   "outputs": [],
   "source": [
    "TRUNCATE = \"\"\"\n",
    "TRUNCATE \"nc_stop\" RESTART IDENTITY CASCADE; \n",
    "TRUNCATE \"nc_person\" RESTART IDENTITY CASCADE; \n",
    "TRUNCATE \"nc_search\" RESTART IDENTITY CASCADE;\n",
    "TRUNCATE \"nc_searchbasis\" RESTART IDENTITY CASCADE;\n",
    "TRUNCATE \"nc_contraband\" RESTART IDENTITY CASCADE;\n",
    "TRUNCATE \"nc_agency\" RESTART IDENTITY CASCADE;\n",
    "\"\"\""
   ]
  },
  {
   "cell_type": "code",
   "execution_count": 45,
   "metadata": {},
   "outputs": [],
   "source": [
    "def iter_csv(table_name, data_frame, insert_stmt, cur):\n",
    "    for df in data_frame:\n",
    "        s_buf = io.StringIO()\n",
    "        df.to_csv(s_buf)\n",
    "        cur.copy_from(s_buf, table_name, sep=\",\", columns=stop_column_names)\n",
    "        s_buf.close()\n",
    "        print((time.time() - start) / 60)\n",
    "\n",
    "def setup_column_names(data_frame, table_name, cols):\n",
    "    columns = \",\".join(cols)\n",
    "    # create values template one '%s' per column\n",
    "    values = \"VALUES({})\".format(\",\".join([\"%s\" for _ in cols])) \n",
    "    #create insert statement template\n",
    "    insert_stmt = \"INSERT INTO {} ({}) {}\".format(table_name, columns, values)\n",
    "    return insert_stmt"
   ]
  },
  {
   "cell_type": "code",
   "execution_count": 46,
   "metadata": {},
   "outputs": [
    {
     "name": "stdout",
     "output_type": "stream",
     "text": [
      "0.0049084822336832685\n"
     ]
    }
   ],
   "source": [
    "start = time.time()\n",
    "with conn:\n",
    "    with conn.cursor() as cur:\n",
    "        cur.execute(TRUNCATE)\n",
    "#         with Path(\"./ncdata/Stop.csv\").open() as fh:\n",
    "#             cur.copy_expert(STOP_COPY, fh)\n",
    "#         insert_stmt = setup_column_names(stop_df, \"nc_stop\", stop_column_names)\n",
    "#         iter_csv(\"nc_stop\", stop_df, insert_stmt, cur)\n",
    "print((time.time() - start) / 60)"
   ]
  },
  {
   "cell_type": "code",
   "execution_count": null,
   "metadata": {},
   "outputs": [],
   "source": []
  }
 ],
 "metadata": {
  "kernelspec": {
   "display_name": "Django Shell-Plus",
   "language": "python",
   "name": "django_extensions"
  },
  "language_info": {
   "codemirror_mode": {
    "name": "ipython",
    "version": 3
   },
   "file_extension": ".py",
   "mimetype": "text/x-python",
   "name": "python",
   "nbconvert_exporter": "python",
   "pygments_lexer": "ipython3",
   "version": "3.8.5"
  }
 },
 "nbformat": 4,
 "nbformat_minor": 4
}
